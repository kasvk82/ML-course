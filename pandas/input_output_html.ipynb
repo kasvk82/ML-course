{
 "cells": [
  {
   "cell_type": "code",
   "execution_count": 2,
   "metadata": {},
   "outputs": [],
   "source": [
    "import numpy as np\n",
    "import pandas as pd"
   ]
  },
  {
   "cell_type": "code",
   "execution_count": 8,
   "metadata": {},
   "outputs": [],
   "source": [
    "url = 'file:///C:/Users/KVKONST2/Downloads/view-source_https___en.wikipedia.org_wiki_World_population.html'"
   ]
  },
  {
   "cell_type": "code",
   "execution_count": 9,
   "metadata": {},
   "outputs": [],
   "source": [
    "tables = pd.read_html(url)"
   ]
  },
  {
   "cell_type": "code",
   "execution_count": 11,
   "metadata": {},
   "outputs": [
    {
     "data": {
      "text/plain": [
       "[       0                                                  1\n",
       " 0    NaN                                    <!DOCTYPE html>\n",
       " 1    NaN  <html class=\"client-nojs vector-feature-langua...\n",
       " 2    NaN                                             <head>\n",
       " 3    NaN                             <meta charset=\"UTF-8\">\n",
       " 4    NaN        <title>World population - Wikipedia</title>\n",
       " ...   ..                                                ...\n",
       " 4782 NaN                                             </div>\n",
       " 4783 NaN  <script>(RLQ=window.RLQ||[]).push(function(){m...\n",
       " 4784 NaN  <script type=\"application/ld+json\">{\"@context\"...\n",
       " 4785 NaN                                            </body>\n",
       " 4786 NaN                                            </html>\n",
       " \n",
       " [4787 rows x 2 columns]]"
      ]
     },
     "execution_count": 11,
     "metadata": {},
     "output_type": "execute_result"
    }
   ],
   "source": [
    "tables"
   ]
  },
  {
   "cell_type": "code",
   "execution_count": null,
   "metadata": {},
   "outputs": [],
   "source": []
  }
 ],
 "metadata": {
  "kernelspec": {
   "display_name": "Python 3",
   "language": "python",
   "name": "python3"
  },
  "language_info": {
   "codemirror_mode": {
    "name": "ipython",
    "version": 3
   },
   "file_extension": ".py",
   "mimetype": "text/x-python",
   "name": "python",
   "nbconvert_exporter": "python",
   "pygments_lexer": "ipython3",
   "version": "3.10.6"
  }
 },
 "nbformat": 4,
 "nbformat_minor": 2
}
